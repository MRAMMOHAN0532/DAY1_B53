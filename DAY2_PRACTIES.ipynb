{
 "cells": [
  {
   "cell_type": "markdown",
   "id": "f2cdf4e6",
   "metadata": {},
   "source": [
    "name='mothukuri ram mohan'\n",
    "print(name.title())"
   ]
  },
  {
   "cell_type": "code",
   "execution_count": 5,
   "id": "3feada53",
   "metadata": {},
   "outputs": [
    {
     "name": "stdout",
     "output_type": "stream",
     "text": [
      "Mothukuri Rammohan\n"
     ]
    }
   ],
   "source": [
    "fullname = 'mothukuri rammohan'\n",
    "print(fullname.title())"
   ]
  },
  {
   "cell_type": "code",
   "execution_count": 6,
   "id": "7dc007a6",
   "metadata": {},
   "outputs": [
    {
     "name": "stdout",
     "output_type": "stream",
     "text": [
      "Mothukuri Ram Mohan\n"
     ]
    }
   ],
   "source": [
    "fullname = 'mothukuri ram mohan'\n",
    "print(fullname.title())"
   ]
  },
  {
   "cell_type": "code",
   "execution_count": 7,
   "id": "33708cd4",
   "metadata": {},
   "outputs": [
    {
     "name": "stdout",
     "output_type": "stream",
     "text": [
      "mothukuri rammohan\n"
     ]
    }
   ],
   "source": [
    "fullname = 'mothukuri rammohan'\n",
    "print(fullname.lower())"
   ]
  },
  {
   "cell_type": "code",
   "execution_count": 8,
   "id": "9b2b757c",
   "metadata": {},
   "outputs": [
    {
     "name": "stdout",
     "output_type": "stream",
     "text": [
      "MOTHUKURI\n",
      " RAM\tMOHAN\n"
     ]
    }
   ],
   "source": [
    "fullname = 'mothukuri\\n ram\\tmohan'\n",
    "print(fullname.upper())"
   ]
  },
  {
   "cell_type": "code",
   "execution_count": 9,
   "id": "df57c76c",
   "metadata": {},
   "outputs": [
    {
     "data": {
      "text/plain": [
       "str"
      ]
     },
     "execution_count": 9,
     "metadata": {},
     "output_type": "execute_result"
    }
   ],
   "source": [
    "type(name)"
   ]
  },
  {
   "cell_type": "code",
   "execution_count": 10,
   "id": "187322c8",
   "metadata": {},
   "outputs": [
    {
     "data": {
      "text/plain": [
       "int"
      ]
     },
     "execution_count": 10,
     "metadata": {},
     "output_type": "execute_result"
    }
   ],
   "source": [
    "type(20)"
   ]
  },
  {
   "cell_type": "code",
   "execution_count": 11,
   "id": "1330f197",
   "metadata": {},
   "outputs": [
    {
     "data": {
      "text/plain": [
       "float"
      ]
     },
     "execution_count": 11,
     "metadata": {},
     "output_type": "execute_result"
    }
   ],
   "source": [
    "type(12.22)"
   ]
  },
  {
   "cell_type": "code",
   "execution_count": 12,
   "id": "f3a758e3",
   "metadata": {},
   "outputs": [
    {
     "name": "stdout",
     "output_type": "stream",
     "text": [
      "firstname,lastname\n"
     ]
    }
   ],
   "source": [
    "firstname='ram'\n",
    "lastname='mohan'\n",
    "print(f'firstname,lastname')"
   ]
  },
  {
   "cell_type": "code",
   "execution_count": 18,
   "id": "282bab25",
   "metadata": {},
   "outputs": [
    {
     "name": "stdout",
     "output_type": "stream",
     "text": [
      "RAM\n",
      "\tMOHAN\n"
     ]
    }
   ],
   "source": [
    "firstname='ram'\n",
    "lastname='mohan'\n",
    "print(f'{firstname.upper()}\\n\\t{lastname.upper()}')"
   ]
  },
  {
   "cell_type": "code",
   "execution_count": 20,
   "id": "ee824b79",
   "metadata": {},
   "outputs": [
    {
     "ename": "SyntaxError",
     "evalue": "EOL while scanning string literal (<ipython-input-20-a9324537a3b8>, line 3)",
     "output_type": "error",
     "traceback": [
      "\u001b[1;36m  File \u001b[1;32m\"<ipython-input-20-a9324537a3b8>\"\u001b[1;36m, line \u001b[1;32m3\u001b[0m\n\u001b[1;33m    print(f'{first_name.title()} : {last_name.title()})\u001b[0m\n\u001b[1;37m                                                       ^\u001b[0m\n\u001b[1;31mSyntaxError\u001b[0m\u001b[1;31m:\u001b[0m EOL while scanning string literal\n"
     ]
    }
   ],
   "source": [
    "first_name='mothukuri'\n",
    "last_name='harshith'\n",
    "print(f'{first_name.title()} : {last_name.title()})"
   ]
  },
  {
   "cell_type": "code",
   "execution_count": 22,
   "id": "8d3d59d2",
   "metadata": {},
   "outputs": [
    {
     "name": "stdout",
     "output_type": "stream",
     "text": [
      "MOTHUKURI : HARSHITH\n"
     ]
    }
   ],
   "source": [
    "first_name='mothukuri'\n",
    "last_name='harshith'\n",
    "print(f'{first_name.upper()} : {last_name.upper()}' )"
   ]
  },
  {
   "cell_type": "code",
   "execution_count": 29,
   "id": "45bc7f7e",
   "metadata": {},
   "outputs": [
    {
     "name": "stdout",
     "output_type": "stream",
     "text": [
      "('ramana\\n', 'venu\\n', 'seenu\\n', 'ramesh\\n', 'rammohan\\n', 'Nagendra\\n', 'bramha\\n')\n"
     ]
    }
   ],
   "source": [
    "students ='ramana\\n','venu\\n','seenu\\n','ramesh\\n','rammohan\\n','Nagendra\\n','bramha\\n'\n",
    "print(students)"
   ]
  },
  {
   "cell_type": "code",
   "execution_count": 30,
   "id": "2448fa17",
   "metadata": {},
   "outputs": [
    {
     "name": "stdout",
     "output_type": "stream",
     "text": [
      "('ramana\\n', 'venu\\n', 'seenu\\n', 'ramesh\\n', 'rammohan\\n', 'Nagendra\\n', 'bramha\\n')\n"
     ]
    }
   ],
   "source": [
    "students ='ramana\\n','venu\\n','seenu\\n','ramesh\\n','rammohan\\n','Nagendra\\n','bramha\\n'\n",
    "print(students)"
   ]
  },
  {
   "cell_type": "code",
   "execution_count": 31,
   "id": "143a820b",
   "metadata": {},
   "outputs": [
    {
     "name": "stdout",
     "output_type": "stream",
     "text": [
      "['ramana\\n', 'venu\\n', 'seenu\\n', 'ramesh\\n', 'rammohan\\n', 'Nagendra\\n', 'bramha\\n']\n"
     ]
    }
   ],
   "source": [
    "students =['ramana\\n','venu\\n','seenu\\n','ramesh\\n','rammohan\\n','Nagendra\\n','bramha\\n']\n",
    "print(students)"
   ]
  },
  {
   "cell_type": "code",
   "execution_count": null,
   "id": "68969c31",
   "metadata": {},
   "outputs": [],
   "source": [
    "'ramana\\n','venu\\n','seenu\\n','ramesh\\n','rammohan\\n','Nagendra\\n','bramha\\n'"
   ]
  },
  {
   "cell_type": "code",
   "execution_count": 32,
   "id": "1c81c5f8",
   "metadata": {},
   "outputs": [
    {
     "name": "stdout",
     "output_type": "stream",
     "text": [
      "venu\n",
      "\n"
     ]
    }
   ],
   "source": [
    "students =['ramana\\n','venu\\n','seenu\\n','ramesh\\n','rammohan\\n','Nagendra\\n','bramha\\n']\n",
    "print(students[1])"
   ]
  },
  {
   "cell_type": "markdown",
   "id": "3a997874",
   "metadata": {},
   "source": []
  },
  {
   "cell_type": "code",
   "execution_count": 33,
   "id": "858f099d",
   "metadata": {},
   "outputs": [
    {
     "name": "stdout",
     "output_type": "stream",
     "text": [
      "Nagendra\n",
      "\n"
     ]
    }
   ],
   "source": [
    "students =['ramana\\n','venu\\n','seenu\\n','ramesh\\n','rammohan\\n','Nagendra\\n','bramha\\n']\n",
    "print(students[5])"
   ]
  },
  {
   "cell_type": "code",
   "execution_count": 34,
   "id": "753d2db5",
   "metadata": {},
   "outputs": [
    {
     "name": "stdout",
     "output_type": "stream",
     "text": [
      "['ramana\\n', 'venu\\n', 'seenu\\n', 'ramesh\\n', 'rammohan\\n', 'Nagendra\\n', 'bramha\\n', 'purush']\n"
     ]
    }
   ],
   "source": [
    "students.append('purush')\n",
    "print(students)"
   ]
  },
  {
   "cell_type": "code",
   "execution_count": 35,
   "id": "700bc41e",
   "metadata": {},
   "outputs": [
    {
     "name": "stdout",
     "output_type": "stream",
     "text": [
      "['ramana\\n', 'lakshminara', 'venu\\n', 'seenu\\n', 'ramesh\\n', 'rammohan\\n', 'Nagendra\\n', 'bramha\\n', 'purush']\n"
     ]
    }
   ],
   "source": [
    "students.insert(1,'lakshminara')\n",
    "print(students)"
   ]
  },
  {
   "cell_type": "code",
   "execution_count": 36,
   "id": "aa0632d5",
   "metadata": {},
   "outputs": [],
   "source": [
    "del students[1]"
   ]
  },
  {
   "cell_type": "code",
   "execution_count": 40,
   "id": "d5a2e924",
   "metadata": {},
   "outputs": [
    {
     "name": "stdout",
     "output_type": "stream",
     "text": [
      "['ramana\\n', 'venu\\n', 'seenu\\n', 'ramesh\\n', 'rammohan\\n', 'Nagendra\\n', 'bramha\\n']\n"
     ]
    }
   ],
   "source": [
    "print(students)"
   ]
  },
  {
   "cell_type": "code",
   "execution_count": 38,
   "id": "11c1f7aa",
   "metadata": {},
   "outputs": [],
   "source": [
    "del students[7]"
   ]
  },
  {
   "cell_type": "code",
   "execution_count": 42,
   "id": "07d88ccb",
   "metadata": {},
   "outputs": [],
   "source": [
    "x=students.pop()"
   ]
  },
  {
   "cell_type": "code",
   "execution_count": 43,
   "id": "6cd4a542",
   "metadata": {},
   "outputs": [
    {
     "name": "stdout",
     "output_type": "stream",
     "text": [
      "['ramana\\n', 'venu\\n', 'seenu\\n', 'ramesh\\n', 'rammohan\\n', 'Nagendra\\n']\n"
     ]
    }
   ],
   "source": [
    "print(students)"
   ]
  },
  {
   "cell_type": "code",
   "execution_count": 44,
   "id": "d0dbb1c6",
   "metadata": {},
   "outputs": [],
   "source": [
    "x=students.pop(3)"
   ]
  },
  {
   "cell_type": "code",
   "execution_count": 45,
   "id": "ae1e1656",
   "metadata": {},
   "outputs": [
    {
     "name": "stdout",
     "output_type": "stream",
     "text": [
      "['ramana\\n', 'venu\\n', 'seenu\\n', 'rammohan\\n', 'Nagendra\\n']\n"
     ]
    }
   ],
   "source": [
    "print(students)"
   ]
  },
  {
   "cell_type": "code",
   "execution_count": null,
   "id": "0e3aa00c",
   "metadata": {},
   "outputs": [],
   "source": []
  },
  {
   "cell_type": "code",
   "execution_count": null,
   "id": "6b90afba",
   "metadata": {},
   "outputs": [],
   "source": []
  },
  {
   "cell_type": "code",
   "execution_count": null,
   "id": "8a66a412",
   "metadata": {},
   "outputs": [],
   "source": []
  },
  {
   "cell_type": "code",
   "execution_count": null,
   "id": "903d7775",
   "metadata": {},
   "outputs": [],
   "source": []
  },
  {
   "cell_type": "code",
   "execution_count": null,
   "id": "d0273936",
   "metadata": {},
   "outputs": [],
   "source": []
  },
  {
   "cell_type": "code",
   "execution_count": null,
   "id": "31513dfa",
   "metadata": {},
   "outputs": [],
   "source": []
  },
  {
   "cell_type": "code",
   "execution_count": null,
   "id": "9bd05579",
   "metadata": {},
   "outputs": [],
   "source": []
  },
  {
   "cell_type": "code",
   "execution_count": null,
   "id": "e5a7bbaf",
   "metadata": {},
   "outputs": [],
   "source": []
  },
  {
   "cell_type": "code",
   "execution_count": null,
   "id": "13c494ce",
   "metadata": {},
   "outputs": [],
   "source": []
  }
 ],
 "metadata": {
  "kernelspec": {
   "display_name": "Python 3",
   "language": "python",
   "name": "python3"
  },
  "language_info": {
   "codemirror_mode": {
    "name": "ipython",
    "version": 3
   },
   "file_extension": ".py",
   "mimetype": "text/x-python",
   "name": "python",
   "nbconvert_exporter": "python",
   "pygments_lexer": "ipython3",
   "version": "3.8.8"
  }
 },
 "nbformat": 4,
 "nbformat_minor": 5
}
